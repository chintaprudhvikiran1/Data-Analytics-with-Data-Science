{
 "cells": [
  {
   "cell_type": "markdown",
   "id": "5d56f9fe-b552-4004-b537-f45f30b179a8",
   "metadata": {},
   "source": [
    "# Project 1\n",
    "\n",
    "\n",
    "  "
   ]
  },
  {
   "cell_type": "markdown",
   "id": "a4d0a074-cd59-4124-b6db-fbec199c4eb5",
   "metadata": {},
   "source": [
    "**Project:** Number Guessing Game <br>\n",
    "\n",
    "**Project Description:** \n",
    "Create a game where the computer randomly selects a number within a specified range, and the player has to guess that number. The game should provide hints after each incorrect guess to guide the player\n",
    "\n",
    "**Hints**\n",
    "\n",
    "1. **Define the Range:** Ask the user for the minimum and maximum values for the guessing range.\n",
    "2. **Generate a Random Number:** Use Python's random module to select a number within the specified range.\n",
    "3. **User Input:** Prompt the user to enter their guess and validate the input.\n",
    "4. **Provide Feedback:** After each guess, inform the user if their guess is too high, too low, or correct.\n",
    "5. **Count Attempts:** Keep track of how many attempts the user has made.\n",
    "6. **End Game:** When the user guesses correctly, display a congratulatory message along with the number of attempts taken.\n",
    "\n",
    "\n"
   ]
  },
  {
   "cell_type": "code",
   "execution_count": null,
   "id": "1ef86ace-eaf1-4406-bc31-bea56c66adcc",
   "metadata": {},
   "outputs": [],
   "source": []
  },
  {
   "cell_type": "code",
   "execution_count": 44,
   "id": "2c6b18ed-5ee6-4ca6-9e4d-4a4aa2acf2dc",
   "metadata": {},
   "outputs": [],
   "source": [
    "import random\n",
    "def random_number_guessing():\n",
    "    print(\"Welcome to Random Number Guessing Game!\")\n",
    "    \n",
    "    min_value = int(input(\"Please enter the minimum value number:\"))\n",
    "    max_value = int(input(\"Please enter the maximum value number:\"))\n",
    "\n",
    "    random_number = random.randint(min_value,max_value)\n",
    "    attempts = 0\n",
    "    guessed_correctly = False\n",
    "\n",
    "    while not guessed_correctly:\n",
    "        try:\n",
    "            guess = int(input(f\"Please guess the number between {min_value} and {max_value}: \"))\n",
    "            attempts += 1\n",
    "            if attempts<3:\n",
    "                if guess < min_value or guess > max_value:\n",
    "                    print(\"Please enter the number within the range\")\n",
    "                elif guess < random_number:\n",
    "                    print(\"Too Low to the random number\")\n",
    "                elif guess > random_number:\n",
    "                    print(\"Too high to the random number\")\n",
    "                else :\n",
    "                    guessed_correctly = True\n",
    "                    print(f\"Congrats! You guessed the random number {random_number} correctly in {attempts} attempts\")\n",
    "            else:\n",
    "                print(\"Too Many Attempts! Sorry,Try Again\")\n",
    "                break\n",
    "                return random_guessing_number()\n",
    "            \n",
    "        except TypeError as e:\n",
    "            print(\"please input valid number\", e)\n",
    "                \n",
    "            \n",
    "            \n",
    "    \n",
    "\n"
   ]
  },
  {
   "cell_type": "code",
   "execution_count": null,
   "id": "f9751129-045a-4179-bb48-1044f076b8d1",
   "metadata": {},
   "outputs": [],
   "source": [
    "random_number_guessing()"
   ]
  },
  {
   "cell_type": "code",
   "execution_count": null,
   "id": "10bff78f-46e0-4d65-8c0d-baf00324a413",
   "metadata": {},
   "outputs": [],
   "source": []
  },
  {
   "cell_type": "code",
   "execution_count": null,
   "id": "bc2ad8f2-c908-42d7-95e9-d3f012965709",
   "metadata": {},
   "outputs": [],
   "source": []
  },
  {
   "cell_type": "code",
   "execution_count": null,
   "id": "defe1930-212f-4db2-99e8-2ea3e9807b1b",
   "metadata": {},
   "outputs": [],
   "source": []
  },
  {
   "cell_type": "code",
   "execution_count": null,
   "id": "b70f0270-3fb2-48bf-9817-8889edb19bbd",
   "metadata": {},
   "outputs": [],
   "source": []
  },
  {
   "cell_type": "code",
   "execution_count": null,
   "id": "1bd5cf10-4f6f-4c69-ae21-d8788a7916f3",
   "metadata": {},
   "outputs": [],
   "source": []
  },
  {
   "cell_type": "code",
   "execution_count": null,
   "id": "618aabb3-9b44-49f2-a96d-6e68566ab790",
   "metadata": {},
   "outputs": [],
   "source": []
  },
  {
   "cell_type": "code",
   "execution_count": null,
   "id": "75f221e0-6d7e-4506-918a-2ed419794152",
   "metadata": {},
   "outputs": [],
   "source": []
  },
  {
   "cell_type": "code",
   "execution_count": null,
   "id": "dbe86719-ed6e-457e-a42d-71902c55dbf1",
   "metadata": {},
   "outputs": [],
   "source": []
  },
  {
   "cell_type": "code",
   "execution_count": null,
   "id": "4fad4c33-4d3b-407a-961e-880f8bf14c1d",
   "metadata": {},
   "outputs": [],
   "source": []
  },
  {
   "cell_type": "code",
   "execution_count": null,
   "id": "ac4b2fdf-fc74-4426-bd38-fef2ebffae35",
   "metadata": {},
   "outputs": [],
   "source": []
  },
  {
   "cell_type": "code",
   "execution_count": null,
   "id": "b535f5cb-57d4-4c96-b981-1504c1ed63d4",
   "metadata": {},
   "outputs": [],
   "source": []
  },
  {
   "cell_type": "code",
   "execution_count": null,
   "id": "bb9a7ae2-78e6-4626-9b8b-de393a7a07d4",
   "metadata": {},
   "outputs": [],
   "source": []
  },
  {
   "cell_type": "code",
   "execution_count": null,
   "id": "7e185f48-4f64-4ed3-9bf5-01bf00206342",
   "metadata": {},
   "outputs": [],
   "source": []
  },
  {
   "cell_type": "code",
   "execution_count": null,
   "id": "b3d206fb-57e4-4934-9d28-de24faa87628",
   "metadata": {},
   "outputs": [],
   "source": []
  },
  {
   "cell_type": "code",
   "execution_count": null,
   "id": "ff6ed023-09f8-4e6d-ac7f-5ae73166c97f",
   "metadata": {},
   "outputs": [],
   "source": []
  },
  {
   "cell_type": "code",
   "execution_count": null,
   "id": "e867092e-cef1-4410-b1c1-4cc61d459c72",
   "metadata": {},
   "outputs": [],
   "source": []
  },
  {
   "cell_type": "code",
   "execution_count": null,
   "id": "58022f82-0861-4a03-8933-2a22f2171501",
   "metadata": {},
   "outputs": [],
   "source": []
  },
  {
   "cell_type": "code",
   "execution_count": null,
   "id": "6ee9d655-0fd1-40fa-affa-340376fbe622",
   "metadata": {},
   "outputs": [],
   "source": []
  },
  {
   "cell_type": "code",
   "execution_count": null,
   "id": "b7a431b0-f875-407e-9505-d921290fd5a6",
   "metadata": {},
   "outputs": [],
   "source": []
  },
  {
   "cell_type": "code",
   "execution_count": null,
   "id": "76c86f76-8983-45b1-9cf4-15c35059db8e",
   "metadata": {},
   "outputs": [],
   "source": []
  },
  {
   "cell_type": "code",
   "execution_count": null,
   "id": "bd7de192-bbf6-41ca-ab95-8ac53caeade3",
   "metadata": {},
   "outputs": [],
   "source": []
  }
 ],
 "metadata": {
  "kernelspec": {
   "display_name": "Python 3 (ipykernel)",
   "language": "python",
   "name": "python3"
  },
  "language_info": {
   "codemirror_mode": {
    "name": "ipython",
    "version": 3
   },
   "file_extension": ".py",
   "mimetype": "text/x-python",
   "name": "python",
   "nbconvert_exporter": "python",
   "pygments_lexer": "ipython3",
   "version": "3.12.7"
  }
 },
 "nbformat": 4,
 "nbformat_minor": 5
}
